{
  "nbformat": 4,
  "nbformat_minor": 0,
  "metadata": {
    "colab": {
      "name": "text_classifier.ipynb",
      "provenance": []
    },
    "kernelspec": {
      "name": "python3",
      "display_name": "Python 3"
    }
  },
  "cells": [
    {
      "cell_type": "code",
      "metadata": {
        "id": "vUZMzoiMb9dh"
      },
      "source": [
        "!unzip uw-cs480-fall20.zip"
      ],
      "execution_count": null,
      "outputs": []
    },
    {
      "cell_type": "code",
      "metadata": {
        "id": "2fZpiQIrKfRO"
      },
      "source": [
        "import math\n",
        "import pandas as pd\n",
        "import numpy as np\n",
        "import matplotlib.pyplot as plt\n",
        "import matplotlib.image as mpimg\n",
        "import string\n",
        "\n",
        "def clean_text(text):\n",
        "  translator = str.maketrans(string.punctuation, ' ' * len(string.punctuation)) #map punctuation to space\n",
        "  new_txt = text.translate(translator)\n",
        "  new_txt = new_txt.lower() \n",
        "  return new_txt\n",
        "\n",
        "# prepare train dataset\n",
        "train_data = pd.read_csv(\"train.csv\")\n",
        "train_data['noisyTextDescription'] = train_data['noisyTextDescription'].apply(clean_text)\n",
        "train_category = train_data.category\n",
        "train_txt = train_data.noisyTextDescription\n",
        "classification = (pd.unique(train_category)).tolist()\n",
        "y = list(map(lambda c: np.array([classification.index(c)]), train_category))\n",
        "y_train = np.array(y)\n",
        "\n",
        "\n",
        "# prepare test dataset\n",
        "test_data = pd.read_csv(\"test.csv\")\n",
        "test_data['noisyTextDescription'] = test_data['noisyTextDescription'].apply(clean_text)\n",
        "test_id = test_data.id\n",
        "test_txt = test_data.noisyTextDescription\n"
      ],
      "execution_count": null,
      "outputs": []
    },
    {
      "cell_type": "code",
      "metadata": {
        "colab": {
          "base_uri": "https://localhost:8080/",
          "height": 1000
        },
        "id": "L3K_C6MXRJl1",
        "outputId": "732cf55d-ad4b-4f3c-b92e-0ec7802be004"
      },
      "source": [
        "import itertools\n",
        "import os\n",
        "\n",
        "%matplotlib inline\n",
        "import matplotlib.pyplot as plt\n",
        "import numpy as np\n",
        "import pandas as pd\n",
        "import tensorflow as tf\n",
        "\n",
        "from sklearn.preprocessing import LabelBinarizer, LabelEncoder\n",
        "from sklearn.metrics import confusion_matrix\n",
        "\n",
        "from tensorflow import keras\n",
        "from keras.models import Sequential, load_model\n",
        "from keras.layers import Dense, Activation, Dropout\n",
        "from keras.preprocessing import text, sequence\n",
        "from keras import utils\n",
        "from keras.callbacks import ModelCheckpoint\n",
        "\n",
        "batch_size = 32\n",
        "epochs = 10\n",
        "\n",
        "# normalize dataset\n",
        "max_words = 1000\n",
        "tokenize = text.Tokenizer(num_words=max_words, char_level=False)\n",
        "\n",
        "tokenize.fit_on_texts(train_txt) # only fit on train\n",
        "x_train = tokenize.texts_to_matrix(train_txt)\n",
        "x_test = tokenize.texts_to_matrix(test_txt)\n",
        "\n",
        "num_classes = 27\n",
        "y_train = utils.to_categorical(y_train, num_classes)\n",
        "\n",
        "print('x_train shape:', x_train.shape)\n",
        "print('x_test shape:', x_test.shape)\n",
        "print('y_train shape:', y_train.shape)\n",
        "\n",
        "# Build the model\n",
        "model = Sequential()\n",
        "model.add(Dense(512, input_shape=(max_words,)))\n",
        "model.add(Activation('relu'))\n",
        "model.add(Dropout(0.5))\n",
        "model.add(Dense(num_classes))\n",
        "model.add(Activation('softmax'))\n",
        "\n",
        "# create a callback that will save the best model while training\n",
        "save_best_model = ModelCheckpoint('best_model.h5', monitor='val_accuracy', mode='max', save_best_only=True, verbose=1)\n",
        "\n",
        "\n",
        "model.compile(loss='categorical_crossentropy',\n",
        "              optimizer='adam',\n",
        "              metrics=['accuracy'])\n",
        "\n",
        "history = model.fit(x_train, y_train,\n",
        "                    batch_size=batch_size,\n",
        "                    epochs=epochs,\n",
        "                    verbose=1,\n",
        "                    validation_split=0.177,\n",
        "                    callbacks=[save_best_model])\n",
        "\n",
        "# Plot training accuracy\n",
        "plt.plot(history.history['accuracy'])\n",
        "plt.title('training accuracy')\n",
        "plt.ylabel('training accuracy')\n",
        "plt.xlabel('epoch')\n",
        "plt.legend(['Conv'], loc='upper left')\n",
        "plt.show()\n",
        "\n",
        "# Plot validation accuracy\n",
        "plt.plot(history.history['val_accuracy'])\n",
        "plt.title('validation accuracy')\n",
        "plt.ylabel('validation accuracy')\n",
        "plt.xlabel('epoch')\n",
        "plt.legend(['Conv'], loc='upper left')\n",
        "plt.show()\n"
      ],
      "execution_count": null,
      "outputs": [
        {
          "output_type": "stream",
          "text": [
            "x_train shape: (21627, 1000)\n",
            "x_test shape: (21628, 1000)\n",
            "y_train shape: (21627, 27)\n",
            "Epoch 1/10\n",
            "555/557 [============================>.] - ETA: 0s - loss: 0.9559 - accuracy: 0.7688\n",
            "Epoch 00001: val_accuracy improved from -inf to 0.89629, saving model to best_model.h5\n",
            "557/557 [==============================] - 3s 6ms/step - loss: 0.9546 - accuracy: 0.7691 - val_loss: 0.3893 - val_accuracy: 0.8963\n",
            "Epoch 2/10\n",
            "556/557 [============================>.] - ETA: 0s - loss: 0.3483 - accuracy: 0.9066\n",
            "Epoch 00002: val_accuracy improved from 0.89629 to 0.90700, saving model to best_model.h5\n",
            "557/557 [==============================] - 3s 5ms/step - loss: 0.3483 - accuracy: 0.9066 - val_loss: 0.3246 - val_accuracy: 0.9070\n",
            "Epoch 3/10\n",
            "552/557 [============================>.] - ETA: 0s - loss: 0.2724 - accuracy: 0.9209\n",
            "Epoch 00003: val_accuracy improved from 0.90700 to 0.91014, saving model to best_model.h5\n",
            "557/557 [==============================] - 3s 5ms/step - loss: 0.2728 - accuracy: 0.9207 - val_loss: 0.3167 - val_accuracy: 0.9101\n",
            "Epoch 4/10\n",
            "548/557 [============================>.] - ETA: 0s - loss: 0.2362 - accuracy: 0.9291\n",
            "Epoch 00004: val_accuracy did not improve from 0.91014\n",
            "557/557 [==============================] - 3s 5ms/step - loss: 0.2356 - accuracy: 0.9292 - val_loss: 0.3172 - val_accuracy: 0.9067\n",
            "Epoch 5/10\n",
            "550/557 [============================>.] - ETA: 0s - loss: 0.2081 - accuracy: 0.9370\n",
            "Epoch 00005: val_accuracy did not improve from 0.91014\n",
            "557/557 [==============================] - 3s 5ms/step - loss: 0.2077 - accuracy: 0.9370 - val_loss: 0.3256 - val_accuracy: 0.9049\n",
            "Epoch 6/10\n",
            "551/557 [============================>.] - ETA: 0s - loss: 0.1892 - accuracy: 0.9407\n",
            "Epoch 00006: val_accuracy did not improve from 0.91014\n",
            "557/557 [==============================] - 3s 5ms/step - loss: 0.1905 - accuracy: 0.9402 - val_loss: 0.3281 - val_accuracy: 0.9067\n",
            "Epoch 7/10\n",
            "547/557 [============================>.] - ETA: 0s - loss: 0.1711 - accuracy: 0.9466\n",
            "Epoch 00007: val_accuracy did not improve from 0.91014\n",
            "557/557 [==============================] - 3s 5ms/step - loss: 0.1721 - accuracy: 0.9463 - val_loss: 0.3412 - val_accuracy: 0.9060\n",
            "Epoch 8/10\n",
            "554/557 [============================>.] - ETA: 0s - loss: 0.1586 - accuracy: 0.9500\n",
            "Epoch 00008: val_accuracy did not improve from 0.91014\n",
            "557/557 [==============================] - 3s 5ms/step - loss: 0.1588 - accuracy: 0.9499 - val_loss: 0.3486 - val_accuracy: 0.9023\n",
            "Epoch 9/10\n",
            "548/557 [============================>.] - ETA: 0s - loss: 0.1491 - accuracy: 0.9519\n",
            "Epoch 00009: val_accuracy did not improve from 0.91014\n",
            "557/557 [==============================] - 3s 5ms/step - loss: 0.1490 - accuracy: 0.9519 - val_loss: 0.3613 - val_accuracy: 0.9052\n",
            "Epoch 10/10\n",
            "550/557 [============================>.] - ETA: 0s - loss: 0.1392 - accuracy: 0.9544\n",
            "Epoch 00010: val_accuracy did not improve from 0.91014\n",
            "557/557 [==============================] - 3s 5ms/step - loss: 0.1402 - accuracy: 0.9543 - val_loss: 0.3681 - val_accuracy: 0.9028\n"
          ],
          "name": "stdout"
        },
        {
          "output_type": "display_data",
          "data": {
            "image/png": "[encoded data removed]",
            "text/plain": [
              "<Figure size 432x288 with 1 Axes>"
            ]
          },
          "metadata": {
            "tags": [],
            "needs_background": "light"
          }
        },
        {
          "output_type": "display_data",
          "data": {
            "image/png": "[encoded data removed]",
            "text/plain": [
              "<Figure size 432x288 with 1 Axes>"
            ]
          },
          "metadata": {
            "tags": [],
            "needs_background": "light"
          }
        }
      ]
    },
    {
      "cell_type": "code",
      "metadata": {
        "id": "521PuSJwhbE-",
        "colab": {
          "base_uri": "https://localhost:8080/"
        },
        "outputId": "4fa966e2-82e6-4450-d748-d819cfb21e3d"
      },
      "source": [
        "# Evaluate the best model saved (i.e., model with best validation accuracy) on the test set\n",
        "saved_model = load_model('best_model.h5')\n",
        "predictions = saved_model.predict(x_test)\n",
        "print(predictions)\n"
      ],
      "execution_count": null,
      "outputs": [
        {
          "output_type": "stream",
          "text": [
            "[[3.7167206e-06 2.2883480e-05 8.1832295e-05 ... 3.9791492e-05\n",
            "  1.9797080e-06 4.8747584e-06]\n",
            " [7.7776558e-06 2.3672566e-05 9.9917245e-01 ... 1.6517275e-05\n",
            "  3.1789372e-05 1.1635644e-06]\n",
            " [8.4411289e-04 1.0571893e-03 6.9297333e-03 ... 7.9552522e-03\n",
            "  3.0226351e-04 2.0930902e-03]\n",
            " ...\n",
            " [3.7327460e-05 4.2919558e-04 9.9436861e-01 ... 8.0937862e-05\n",
            "  8.4666535e-04 2.0121546e-05]\n",
            " [1.4324690e-06 1.0592834e-05 1.2432410e-04 ... 5.5074077e-05\n",
            "  2.6811656e-06 5.1928087e-06]\n",
            " [9.6495814e-06 7.1757728e-05 5.4552413e-05 ... 8.3672829e-05\n",
            "  3.2424148e-06 3.3227241e-04]]\n"
          ],
          "name": "stdout"
        }
      ]
    },
    {
      "cell_type": "code",
      "metadata": {
        "id": "PdPmju0wJg1D"
      },
      "source": [
        "classes = np.argmax(predictions, axis = 1)\n",
        "predicted_categories = list(map(lambda i: classification[i], classes))\n",
        "result = {\"id\":test_id,  \"category\":predicted_categories}\n",
        "df = pd.DataFrame(result)\n",
        "df.to_csv('submission_text.csv', index=False)"
      ],
      "execution_count": null,
      "outputs": []
    }
  ]
}